{
 "cells": [
  {
   "cell_type": "markdown",
   "metadata": {},
   "source": [
    "# HoloViz\n",
    "\n",
    "This content is from a Jupyter Notebook and is being processed by MyST-NB.\n",
    "\n",
    "Checking HoloViz outputs.\n",
    "\n",
    "## HoloViews"
   ]
  },
  {
   "cell_type": "code",
   "execution_count": null,
   "metadata": {},
   "outputs": [],
   "source": [
    "import holoviews as hv\n",
    "import pandas as pd\n",
    "\n",
    "hv.extension('bokeh')\n",
    "\n",
    "df = pd.DataFrame({'x': [0, 10, 20], 'y': [5, 1, 9]})\n",
    "\n",
    "hv.Curve(df, kdims='x', vdims='y')"
   ]
  },
  {
   "cell_type": "markdown",
   "metadata": {},
   "source": [
    "## hvPlot"
   ]
  },
  {
   "cell_type": "code",
   "execution_count": null,
   "metadata": {},
   "outputs": [],
   "source": [
    "import hvplot.pandas  # noqa\n",
    "\n",
    "df.hvplot.scatter(x='x', y='y')"
   ]
  },
  {
   "cell_type": "markdown",
   "metadata": {},
   "source": [
    "## Panel"
   ]
  },
  {
   "cell_type": "code",
   "execution_count": null,
   "metadata": {},
   "outputs": [],
   "source": [
    "import panel as pn\n",
    "\n",
    "pn.widgets.IntInput()"
   ]
  }
 ],
 "metadata": {
  "kernelspec": {
   "display_name": "Python 3.8.13 ('nbsite-hvplotbuild-38')",
   "language": "python",
   "name": "python3"
  },
  "language_info": {
   "name": "python",
   "version": "3.8.13"
  },
  "orig_nbformat": 4,
  "vscode": {
   "interpreter": {
    "hash": "a3cfe37c027961dff1f8cd9fb20fb9d0201ea43affa80c7c6c385674ce4d41fa"
   }
  }
 },
 "nbformat": 4,
 "nbformat_minor": 2
}
