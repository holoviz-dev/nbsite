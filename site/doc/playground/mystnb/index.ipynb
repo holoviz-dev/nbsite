{
 "cells": [
  {
   "cell_type": "markdown",
   "metadata": {},
   "source": [
    "# MyST Jupyter Notebook\n",
    "\n",
    "This is a Jupyter Notebook file processed by MyST-NB"
   ]
  },
  {
   "cell_type": "code",
   "execution_count": null,
   "metadata": {},
   "outputs": [],
   "source": [
    "print('hello world')"
   ]
  },
  {
   "cell_type": "markdown",
   "metadata": {},
   "source": [
    "```{toctree}\n",
    ":titlesonly:\n",
    ":hidden:\n",
    ":maxdepth: 2\n",
    "\n",
    "Intro <self>\n",
    "holoviz\n",
    "```\n"
   ]
  }
 ],
 "metadata": {
  "kernelspec": {
   "display_name": "Python 3.8.13 ('nbsite-hvplotbuild-38')",
   "language": "python",
   "name": "python3"
  },
  "language_info": {
   "name": "python",
   "version": "3.8.13"
  },
  "orig_nbformat": 4,
  "vscode": {
   "interpreter": {
    "hash": "a3cfe37c027961dff1f8cd9fb20fb9d0201ea43affa80c7c6c385674ce4d41fa"
   }
  }
 },
 "nbformat": 4,
 "nbformat_minor": 2
}
