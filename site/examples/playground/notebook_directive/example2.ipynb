{
 "cells": [
  {
   "cell_type": "markdown",
   "metadata": {},
   "source": [
    "First cell, it's going to be removed by the offset."
   ]
  },
  {
   "cell_type": "markdown",
   "metadata": {},
   "source": [
    "Second cell, same same."
   ]
  },
  {
   "cell_type": "markdown",
   "metadata": {},
   "source": [
    "This should be the first cell displayed, two previous cells have been discarded by the offset provided to the NotebookDirective."
   ]
  },
  {
   "cell_type": "code",
   "execution_count": null,
   "metadata": {},
   "outputs": [],
   "source": [
    "print('hello world')"
   ]
  },
  {
   "cell_type": "markdown",
   "metadata": {},
   "source": [
    "The default ipython_startup script executed before each notebook removes warnings, let's check that."
   ]
  },
  {
   "cell_type": "code",
   "execution_count": null,
   "metadata": {},
   "outputs": [],
   "source": [
    "import warnings\n",
    "\n",
    "warnings.warn('Test')"
   ]
  }
 ],
 "metadata": {
  "language_info": {
   "name": "python",
   "pygments_lexer": "ipython3"
  }
 },
 "nbformat": 4,
 "nbformat_minor": 2
}
