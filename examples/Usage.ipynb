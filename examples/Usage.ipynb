{
 "cells": [
  {
   "cell_type": "markdown",
   "metadata": {},
   "source": [
    "Note 1: this guide currently omits any mention of notebook testing; that is separated out into a separate library: [nbsmoke](https://github.com/pyviz/nbsmoke).\n",
    "\n",
    "Note 2: this is a pre-release version of nbsite, so you may subsequently have to change your config on upgrading to a newer version of nbsite. You may also encounter problems and/or limitations - please file issues or ask questions on [GitHub](https://github.com/pyviz/nbsite/issues)."
   ]
  },
  {
   "cell_type": "markdown",
   "metadata": {},
   "source": [
    "## Prerequisites\n",
    "\n",
    "1. You want a 'static', fairly self contained site (i.e. just an ordinary web server is required - you can build and serve locally, or copy the build directory to a remote server).\n",
    "\n",
    "2. You have one or more sets of notebooks (e.g. `notebooks/`, or `examples/getting_started` + `examples/user_guide` + `examples/gallery`). Note: current expectation is for there to be no title in the notebook itself; instead, the title will be taken from filename. E.g. `1_The_Filename.ipynb` will result in a title of `1 The Filename`. If there is a title in the notebook, then the `offset` flag can be used to remove the first cell before rendering. Notebooks should use level 2 headings as their highest heading level (level 1 will used for the title). However, all of this may change - see [issue 18](https://github.com/pyviz/nbsite/issues/18).\n",
    "\n",
    "3. The packages used by the notebooks are already installed in the environment into which you will install nbsite.\n",
    "\n",
    "4. (optional, for API docs) Any packages for which you want to generate API docs are also installed (which could be via e.g. `pip install -e /path/to/pkg`).\n",
    "\n",
    "5. You are using mac or linux (might work on windows, but currently untested)\n",
    "\n",
    "6. Currently, you need to have holoviews available in your environment. Other packages (bokeh, matplotlib, plotly) can be used for visualization in addition to holoviews, but if you don't have holoviews in the environment, you will at least need to override `nbbuild_ipython_startup` in `nbbuild.py`, setting it to e.g. `\"\"`."
   ]
  },
  {
   "cell_type": "markdown",
   "metadata": {},
   "source": [
    "## Installation\n",
    "\n",
    "`conda install -c pyviz nbsite` or `pip install nbsite` (note: certain operations may require extra dependencies; for now, see setup.py to learn what those are)"
   ]
  },
  {
   "cell_type": "markdown",
   "metadata": {},
   "source": [
    "## One time setup\n",
    "\n",
    "You can skip and/or modify various steps below depending on what you already have. If you do skip this steps you will need to at least create a doc dir with a conf.py in it. See nbsite/templates/basic for an example.\n",
    "\n",
    "1. Create a set of basic pages: `nbsite init` (will not overwrite existing files). Use the `--theme` option to specify if you want the holoviz setup.\n",
    "\n",
    "2. Edit conf.py as appropriate for your project.\n",
    "\n",
    "3. Edit doc/index.rst toctree to match pages in conf.py\n",
    "\n",
    "4. Commit any pages that you have edited : `git commit -m \"something\" doc/FAQ.rst doc.about.rst doc/conf.py doc/index.rst doc/latest_news.html ...` (etc)"
   ]
  },
  {
   "cell_type": "markdown",
   "metadata": {},
   "source": [
    "## Building the site\n",
    "\n",
    "0. `export ORG=yourorg`, `export PROJECT=yourproject` (or just replace as appropriate in commands below)\n",
    "\n",
    "1. *(optional, if you want API docs)* Generate API docs: `nbsite_generate_modules.py ${MODULE} -d ./Reference_Manual -n ${PROJECT} -e tests` (assuming you have `tests` and do not want it to appear in the API docs)\n",
    "\n",
    "2. Generate rst containers for notebooks (assuming they are in `../examples`: `nbsite generate-rst --org ${ORG} --project ${PROJECT} --examples ../examples`)\n",
    "\n",
    "3. *(optional, if you want gallery)* See [gallery docs](https://nbsite.pyviz.org/gallery)\n",
    "\n",
    "4. Make site: `nbsite build`\n",
    "\n",
    "5. View the result in a browser at localhost:8000: `cd builtdocs && python -m http.server`"
   ]
  },
  {
   "cell_type": "markdown",
   "metadata": {},
   "source": [
    "## Re-building/updating the site\n",
    "\n",
    "### rst pages\n",
    "\n",
    "* Added, removed, or edited an rst page? Update any toc as necessary (e.g. removing an entry), then re-run step 5 above.\n",
    "\n",
    "### Notebooks\n",
    "\n",
    "* Removed a notebook? Delete the corresponding rst file.\n",
    "\n",
    "* Edited a notebook? Re-run step 4 above. You need to manually remove the evaluated notebook from `doc` or use `--overwrite` to have the notebook re-run and turned into html.\n",
    "\n",
    "* Added a new notebook? Re-run step 2 then proceed as for 'edited', above.                                                                                   \n",
    "                                                                                   \n",
    "### Reference manual\n",
    "\n",
    "* If you are working on the reference manual, TODO (depends on commit or not).\n"
   ]
  },
  {
   "cell_type": "markdown",
   "metadata": {},
   "source": [
    "## Customizing Style\n",
    "For most of the sites that have been generated so far, we used the `sphinx_holoviz_theme`. [PyViz](https://pyviz.org) is the exception and uses the Alabaster theme.\n",
    "\n",
    "\n",
    "### HoloViz\n",
    "\n",
    "To use the holoviz theme: pip/conda install sphinx_holoviz_theme and set `html_theme` to `sphinx_holoviz_theme`. To control the look and feel, change `html_theme_options` in conf.py:\n",
    "\n",
    "* `logo` and `favicon`: provide paths relative to `html_static_path` (`doc/_static` by default)\n",
    "* `primary_color`, `primary_color_dark` and `secondary_color`: control the colors that the website uses for header, nav, links... These can be css named colors, or hex colors.\n",
    "* `second_nav`: Boolean indicating whether to use a second nav bar.\n",
    "* `custom_css`: path relative to `html_static_path` overriding styles. Styles come first from the theme's `main.css_t`, which is populated with the colors options, extended/overridden by nbsite's own css `nbsite/_shared_static/nbsite.css`, and then extended/overridden by your site's own css. \n",
    "\n",
    "**NOTE:** Only use the custom_css to overwrite small pieces of the css not to make general improvements. If you have general improvements, please open a PR on the [theme repo](https://github.com/pyviz-dev/sphinx_holoviz_theme).\n",
    "\n",
    "## Customizing running of IPython notebooks\n",
    "\n",
    "In conf.py, you can set options to control notebook execution: \n",
    "\n",
    "* `nbbuild_cell_timeout`: timeout per cell (seconds), e.g. `100`\n",
    "* `nbbuild_ipython_startup`: code (as string) to execute before running the first cell of each notebook. Defaults to [nbsite's ipython startup code](https://github.com/pyviz/nbsite/blob/master/nbsite/ipystartup.py). E.g. `\"module.special_swith=False\"`. \n",
    "* `nbbuild_patterns_to_take_along`: list of glob patterns to match files that should be copied alongside a notebook. E.g. holoviews is configured to save data in external json files to improve page loading times, so this defaults to `[\"*.json\"]`."
   ]
  },
  {
   "cell_type": "markdown",
   "metadata": {},
   "source": [
    "## Automatic deployment to github pages\n",
    "\n",
    "Add something like this to your `.travis.yml` file (but modify for your own preferences):\n",
    "\n",
    "```\n",
    "deploy:\n",
    "  provider: pages\n",
    "  skip_cleanup: true\n",
    "  github_token: $GITHUB_TOKEN\n",
    "  local_dir: ./_build/html\n",
    "  on:\n",
    "    branch: master\n",
    "```\n",
    "\n",
    "See nbsite's `.travis.yml` for an example."
   ]
  },
  {
   "cell_type": "code",
   "execution_count": null,
   "metadata": {},
   "outputs": [],
   "source": []
  }
 ],
 "metadata": {
  "language_info": {
   "name": "python",
   "pygments_lexer": "ipython3"
  }
 },
 "nbformat": 4,
 "nbformat_minor": 2
}
