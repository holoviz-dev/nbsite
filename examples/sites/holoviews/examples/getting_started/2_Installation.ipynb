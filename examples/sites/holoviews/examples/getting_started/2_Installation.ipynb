{
 "cells": [
  {
   "cell_type": "markdown",
   "metadata": {},
   "source": [
    "[![CondaPkg](https://anaconda.org/ioam/holoviews/badges/installer/conda.svg)](https://anaconda.org/ioam/holoviews) \n",
    "[![PyPI](https://img.shields.io/pypi/v/holoviews.svg)](https://pypi.python.org/pypi/holoviews)\n",
    "[![License](https://img.shields.io/pypi/l/holoviews.svg)](https://github.com/ioam/holoviews/blob/master/LICENSE.txt)\n",
    "[![Coveralls](https://img.shields.io/coveralls/ioam/holoviews.svg)](https://coveralls.io/r/ioam/holoviews)"
   ]
  },
  {
   "cell_type": "markdown",
   "metadata": {},
   "source": [
    "HoloViews works with Python 2.7 and Python 3 on Linux, Windows, or\n",
    "Mac, and provides optional extensions for working with the\n",
    "[Jupyter/IPython Notebook](http://jupyter.org)."
   ]
  },
  {
   "cell_type": "markdown",
   "metadata": {},
   "source": [
    "The recommended way to install HoloViews is using the [conda](http://conda.pydata.org/docs/) command\n",
    "provided by [Anaconda](http://docs.continuum.io/anaconda/install) or [Miniconda](http://conda.pydata.org/miniconda.html):\n",
    "\n",
    "    conda install -c ioam holoviews bokeh\n",
    "\n",
    "This command will install the typical packages most useful with\n",
    "HoloViews, though HoloViews itself directly depends only on [Numpy](http://conda.pydata.org/miniconda.html) and\n",
    "[Param](http://ioam.github.com/param/)."
   ]
  },
  {
   "cell_type": "markdown",
   "metadata": {},
   "source": [
    "# Usage"
   ]
  },
  {
   "cell_type": "markdown",
   "metadata": {},
   "source": [
    "Once you've installed HoloViews, you can get a copy of all the examples\n",
    "shown on this website:\n",
    "\n",
    "    holoviews --install-examples\n",
    "    cd holoviews-examples\n",
    "\n",
    "And then you can launch Jupyter Notebook to explore them:\n",
    "\n",
    "    jupyter notebook"
   ]
  },
  {
   "cell_type": "code",
   "execution_count": null,
   "metadata": {},
   "outputs": [],
   "source": []
  }
 ],
 "metadata": {
  "language_info": {
   "name": "python",
   "pygments_lexer": "ipython3"
  }
 },
 "nbformat": 4,
 "nbformat_minor": 2
}
