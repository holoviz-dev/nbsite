{
 "cells": [
  {
   "cell_type": "markdown",
   "metadata": {},
   "source": [
    "## dev install nbsite\n",
    "\n",
    "`pip install -e .`"
   ]
  },
  {
   "cell_type": "markdown",
   "metadata": {},
   "source": [
    "## build nbsite nbsite\n",
    "\n",
    "(todo, see travis for commands to run locally)\n",
    "\n",
    "Update nbsite.pyviz.org: `git tag -a x.y.z -m \"message\" && git push --tags`\n"
   ]
  },
  {
   "cell_type": "markdown",
   "metadata": {},
   "source": [
    "## make pypi release\n",
    "\n",
    "`git tag -a x.y.z -m \"message\" && git push --tags`\n"
   ]
  },
  {
   "cell_type": "markdown",
   "metadata": {},
   "source": [
    "## the bits"
   ]
  },
  {
   "cell_type": "markdown",
   "metadata": {},
   "source": [
    "\n",
    "\n",
    "### shared_conf.py\n",
    "\n",
    "Something\n",
    "\n",
    "\n",
    "### fix_links.py\n",
    "\n",
    "\n",
    "something\n",
    "\n",
    "\n",
    "### gallery.py\n",
    "\n",
    "\n",
    "something\n",
    "\n",
    "\n",
    "### thumbnailer.py\n",
    "\n",
    "Something\n",
    "\n",
    "\n",
    "### nbbuild.py\n",
    "\n",
    "\n",
    "something\n",
    "\n",
    "### nbpagebuild.py\n",
    "\n",
    "\n",
    "Generates rst containers for all notebooks in examples/\n",
    "\n",
    "\n",
    "### generate_modules.py\n",
    "\n",
    "\n",
    "something\n",
    "\n",
    "\n",
    "### paramdoc.py\n",
    "\n",
    "\n",
    "The ioam-builder docextensions branch provides extensions for Sphinx\n",
    "to document Parameterized classes and generate autodocs for the\n",
    "modules and submodules in each project.\n"
   ]
  },
  {
   "cell_type": "code",
   "execution_count": null,
   "metadata": {},
   "outputs": [],
   "source": []
  }
 ],
 "metadata": {
  "language_info": {
   "name": "python",
   "pygments_lexer": "ipython3"
  }
 },
 "nbformat": 4,
 "nbformat_minor": 2
}
